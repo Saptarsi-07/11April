{
 "cells": [
  {
   "cell_type": "raw",
   "id": "badf97dc-bbe2-4b5f-81fc-29cf15fdd4e9",
   "metadata": {},
   "source": [
    "Q1) Ensemble technique in Machine learning basically combines several model to give an output."
   ]
  },
  {
   "cell_type": "raw",
   "id": "1be41585-bae3-4531-a86e-c9c3ef687380",
   "metadata": {},
   "source": [
    "Q2)Ensemble techniques can greatly increase model performance."
   ]
  },
  {
   "cell_type": "raw",
   "id": "1ec1ef4e-8c1f-4e56-b73e-8293d8654793",
   "metadata": {},
   "source": [
    "Q3)Bagging is an ensemble technique, in which several models are trained on several partition od training data."
   ]
  },
  {
   "cell_type": "raw",
   "id": "04a25e29-4612-46dd-934f-029fb1a27421",
   "metadata": {},
   "source": [
    "Q4) In boosting several weak learners are ensembled to create a strong learner model."
   ]
  },
  {
   "cell_type": "raw",
   "id": "56e60acd-ee55-4a54-8f2b-de6e1546c74f",
   "metadata": {},
   "source": [
    "Q5)Ensemble techniques can greatly increase model performance and also reduce overfitting."
   ]
  },
  {
   "cell_type": "raw",
   "id": "7d8ca333-228b-4103-b560-69b0d6d0e271",
   "metadata": {},
   "source": [
    "Q6)Most of the times depending on usecases ensemble outperforms single models.\n"
   ]
  },
  {
   "cell_type": "raw",
   "id": "19b34ae6-971f-4fc4-ad7c-b5fefc18b897",
   "metadata": {},
   "source": [
    "Q8) In bootstrapping technique we first divide the given data into multiple paratition and train each different\n",
    "   model with those partioned dat to get an output, which are aggregated to give the final result."
   ]
  }
 ],
 "metadata": {
  "kernelspec": {
   "display_name": "Python 3 (ipykernel)",
   "language": "python",
   "name": "python3"
  },
  "language_info": {
   "codemirror_mode": {
    "name": "ipython",
    "version": 3
   },
   "file_extension": ".py",
   "mimetype": "text/x-python",
   "name": "python",
   "nbconvert_exporter": "python",
   "pygments_lexer": "ipython3",
   "version": "3.10.8"
  }
 },
 "nbformat": 4,
 "nbformat_minor": 5
}
